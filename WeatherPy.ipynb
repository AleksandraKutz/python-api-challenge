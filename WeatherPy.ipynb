{
 "cells": [
  {
   "cell_type": "markdown",
   "metadata": {},
   "source": [
    "# WeatherPy\n",
    "\n",
    "---\n",
    "\n",
    "## Starter Code to Generate Random Geographic Coordinates and a List of Cities"
   ]
  },
  {
   "cell_type": "code",
   "execution_count": null,
   "metadata": {
    "scrolled": true
   },
   "outputs": [],
   "source": [
    "# Dependencies and Setup\n",
    "import matplotlib.pyplot as plt\n",
    "import pandas as pd\n",
    "import numpy as np\n",
    "import requests\n",
    "import time\n",
    "from scipy.stats import linregress\n",
    "import json\n",
    "\n",
    "# Impor the OpenWeatherMap API key\n",
    "from api_keys import weather_api_key\n",
    "\n",
    "# Import citipy to determine the cities based on latitude and longitude\n",
    "from citipy import citipy"
   ]
  },
  {
   "cell_type": "markdown",
   "metadata": {},
   "source": [
    "### Generate the Cities List by Using the `citipy` Library"
   ]
  },
  {
   "cell_type": "code",
   "execution_count": null,
   "metadata": {},
   "outputs": [],
   "source": [
    "# Empty list for holding the latitude and longitude combinations\n",
    "lat_lngs = []\n",
    "\n",
    "# Empty list for holding the cities names\n",
    "cities = []\n",
    "\n",
    "# Range of latitudes and longitudes\n",
    "lat_range = (-90, 90)\n",
    "lng_range = (-180, 180)\n",
    "\n",
    "# Create a set of random lat and lng combinations\n",
    "lats = np.random.uniform(lat_range[0], lat_range[1], size=1500)\n",
    "lngs = np.random.uniform(lng_range[0], lng_range[1], size=1500)\n",
    "lat_lngs = zip(lats, lngs)\n",
    "\n",
    "# Identify nearest city for each lat, lng combination\n",
    "for lat_lng in lat_lngs:\n",
    "    city = citipy.nearest_city(lat_lng[0], lat_lng[1]).city_name\n",
    "\n",
    "    # If the city is unique, then add it to a our cities list\n",
    "    if city not in cities:\n",
    "        cities.append(city)\n",
    "\n",
    "# Print the city count to confirm sufficient count\n",
    "print(f\"Number of cities in the list: {len(cities)}\")"
   ]
  },
  {
   "cell_type": "markdown",
   "metadata": {},
   "source": [
    "---"
   ]
  },
  {
   "cell_type": "markdown",
   "metadata": {},
   "source": [
    "## Requirement 1: Create Plots to Showcase the Relationship Between Weather Variables and Latitude\n",
    "\n",
    "### Use the OpenWeatherMap API to retrieve weather data from the cities list generated in the started code"
   ]
  },
  {
   "cell_type": "code",
   "execution_count": null,
   "metadata": {},
   "outputs": [],
   "source": [
    "\n",
    "# Set the API base URL\n",
    "url = \"http://api.openweathermap.org/data/2.5/weather?\"\n",
    "\n",
    "\n",
    "# Define an empty list to fetch the weather data for each city\n",
    "\n",
    "city_data = []\n",
    "\n",
    "# Print to logger\n",
    "\n",
    "print(\"Beginning Data Retrieval     \")\n",
    "print(\"-----------------------------\")\n",
    "\n",
    "# Create counters\n",
    "record_count = 1\n",
    "set_count = 1\n",
    "\n",
    "# Loop through all the cities in our list to fetch weather data\n",
    "for i, city in enumerate(cities):\n",
    "\n",
    "    # Group cities in sets of 50 for logging purposes\n",
    "    if (i % 50 == 0 and i >= 50):\n",
    "        set_count += 1\n",
    "        record_count = 0\n",
    "\n",
    "    # Create endpoint URL with each city\n",
    "    city_url = f\"{url}appid={weather_api_key}&q={city}\"\n",
    "    \n",
    "  \n",
    "    \n",
    "    # Log the url, record, and set numbers\n",
    "    \n",
    "    print(\"Processing Record %s of Set %s | %s\" % (record_count, set_count, city))\n",
    "\n",
    "    # Add 1 to the record count\n",
    "    record_count += 1\n",
    "\n",
    "    # Run an API request for each of the cities\n",
    "    try:\n",
    "        \n",
    "        # Parse the JSON and retrieve data\n",
    "        #result = 10 / 0\n",
    "        \n",
    "        city_weather = requests.get(city_url)\n",
    "        data = city_weather.json()\n",
    "        #print(json.dumps(data, indent=4, sort_keys=True))\n",
    "        \n",
    "        \n",
    "        # Parse out latitude, longitude, max temp, humidity, cloudiness, wind speed, country, and date\n",
    "        \n",
    "        city_lat = data[\"coord\"][\"lat\"]\n",
    "        city_lon = data[\"coord\"][\"lon\"]\n",
    "        city_max_temp = data[\"main\"][\"temp_max\"] - 273.15\n",
    "        city_humidity = data[\"main\"][\"humidity\"]\n",
    "        city_clouds = data[\"clouds\"][\"all\"]\n",
    "        city_wind = data[\"wind\"][\"speed\"]\n",
    "        city_country = data[\"sys\"][\"country\"]\n",
    "        city_date = data[\"dt\"]\n",
    "\n",
    "        # Append the City information into city_data list\n",
    "        city_data.append({\"City\": city,\n",
    "                          \"Lat\": city_lat,\n",
    "                          \"Lon\": city_lon,\n",
    "                          \"Max Temp in °C\": city_max_temp,\n",
    "                          \"Humidity\": city_humidity,\n",
    "                          \"Cloudiness\": city_clouds,\n",
    "                          \"Wind Speed\": city_wind,\n",
    "                          \"Country\": city_country,\n",
    "                          \"Date\": city_date})\n",
    "\n",
    "    # If an error is experienced, skip the city\n",
    "    except:\n",
    "    #Exception as e:\n",
    "        #print(f\"An error occurred: {e} of {type(e)}\")\n",
    "        print(\"City not found. Skipping...\")\n",
    "        pass\n",
    "\n",
    "    # pause to avoid rate limiting\n",
    "    time.sleep(1)\n",
    "\n",
    "# Indicate that Data Loading is complete\n",
    "print(\"-----------------------------\")\n",
    "print(\"Data Retrieval Complete      \")\n",
    "print(\"-----------------------------\")"
   ]
  },
  {
   "cell_type": "code",
   "execution_count": null,
   "metadata": {},
   "outputs": [],
   "source": [
    "# Convert the cities weather data into a Pandas DataFrame\n",
    "city_data_df = pd.DataFrame.from_dict(city_data)\n",
    "\n",
    "# Show Record Count\n",
    "city_data_df.count()"
   ]
  },
  {
   "cell_type": "code",
   "execution_count": null,
   "metadata": {},
   "outputs": [],
   "source": [
    "# Display sample data\n",
    "city_data_df.head()"
   ]
  },
  {
   "cell_type": "code",
   "execution_count": null,
   "metadata": {},
   "outputs": [],
   "source": [
    "# Export the City_Data into a csv\n",
    "city_data_df.to_csv(\"output_data/cities.csv\", index_label=\"City_ID\")"
   ]
  },
  {
   "cell_type": "code",
   "execution_count": null,
   "metadata": {},
   "outputs": [],
   "source": [
    "# Read saved data\n",
    "city_data_df = pd.read_csv(\"output_data/cities.csv\", index_col=\"City_ID\")\n",
    "\n",
    "# Display sample data\n",
    "city_data_df.head()"
   ]
  },
  {
   "cell_type": "markdown",
   "metadata": {},
   "source": [
    "### Create the Scatter Plots Requested\n",
    "\n",
    "#### Latitude Vs. Temperature"
   ]
  },
  {
   "cell_type": "code",
   "execution_count": null,
   "metadata": {
    "tags": []
   },
   "outputs": [],
   "source": [
    "# Build scatter plot for latitude vs. temperature\n",
    "# YOUR CODE HERE\n",
    "\n",
    "\n",
    "fig, ax = plt.subplots()\n",
    "\n",
    "ax.scatter(city_data_df[\"Lat\"], city_data_df[\"Max Temp in °C\"], marker='o', edgecolors='blue', facecolors='red', alpha=0.85)\n",
    "\n",
    "# Incorporate the other graph properties\n",
    "# YOUR CODE HERE\n",
    "\n",
    "ax.set_xlabel(\"Latitude (°)\")\n",
    "ax.set_ylabel(\"Temperature (C)\")\n",
    "ax.set_title(\"Latitude Vs. Temperature\")\n",
    "\n",
    "\n",
    "# Save the figure\n",
    "plt.savefig(\"output_data/Fig1.png\")\n",
    "\n",
    "# Show plot\n",
    "plt.show()"
   ]
  },
  {
   "cell_type": "markdown",
   "metadata": {},
   "source": [
    "#### Latitude Vs. Humidity"
   ]
  },
  {
   "cell_type": "code",
   "execution_count": null,
   "metadata": {},
   "outputs": [],
   "source": [
    "# Build the scatter plots for latitude vs. humidity\n",
    "# YOUR CODE HERE\n",
    "\n",
    "fig, ax = plt.subplots()\n",
    "\n",
    "ax.scatter(city_data_df[\"Lat\"], city_data_df[\"Humidity\"], marker = '*', edgecolors = 'blue', facecolors = 'black', alpha = 0.75)\n",
    "\n",
    "# Incorporate the other graph properties\n",
    "# YOUR CODE HERE\n",
    "\n",
    "ax.set_xlabel(\"Latitude (°)\")\n",
    "ax.set_ylabel(\"Humidity (%)\")\n",
    "ax.set_title(\"Latitude vs. Humidity \")\n",
    "\n",
    "# Save the figure\n",
    "plt.savefig(\"output_data/Fig2.png\")\n",
    "\n",
    "# Show plot\n",
    "plt.show()"
   ]
  },
  {
   "cell_type": "markdown",
   "metadata": {},
   "source": [
    "#### Latitude Vs. Cloudiness"
   ]
  },
  {
   "cell_type": "code",
   "execution_count": null,
   "metadata": {},
   "outputs": [],
   "source": [
    "# Build the scatter plots for latitude vs. cloudiness\n",
    "# YOUR CODE HERE\n",
    "\n",
    "fig, ax =plt.subplots()\n",
    "\n",
    "ax.scatter(city_data_df[\"Lat\"], city_data_df[\"Cloudiness\"], marker = 'h', edgecolors = 'darkblue', facecolors = 'lightblue', alpha = 0.95)\n",
    "\n",
    "# Incorporate the other graph properties\n",
    "# YOUR CODE HERE\n",
    "\n",
    "ax.set_xlabel(\"Latitude(°)\")\n",
    "ax.set_ylabel(\"Cloudiness(%)\")\n",
    "ax.set_title(\"Latitude vs. Cloudiness\")\n",
    "\n",
    "# Save the figure\n",
    "plt.savefig(\"output_data/Fig3.png\")\n",
    "\n",
    "# Show plot\n",
    "plt.show()"
   ]
  },
  {
   "cell_type": "markdown",
   "metadata": {},
   "source": [
    "#### Latitude vs. Wind Speed Plot"
   ]
  },
  {
   "cell_type": "code",
   "execution_count": null,
   "metadata": {},
   "outputs": [],
   "source": [
    "# Build the scatter plots for latitude vs. wind speed\n",
    "# YOUR CODE HERE\n",
    "\n",
    "fig, ax =plt.subplots()\n",
    "ax.scatter(city_data_df[\"Lat\"], city_data_df[\"Wind Speed\"], marker = '>', edgecolors = 'green', facecolors = 'violet', alpha = 0.90)\n",
    "\n",
    "# Incorporate the other graph properties\n",
    "# YOUR CODE HERE\n",
    "\n",
    "ax.set_xlabel(\"Latitude(°)\")\n",
    "ax.set_ylabel(\"Wind Speed (m/s)\")\n",
    "ax.set_title(\"Latitude vs. Wind Speed\")\n",
    "\n",
    "# Save the figure\n",
    "plt.savefig(\"output_data/Fig4.png\")\n",
    "\n",
    "# Show plot\n",
    "plt.show()"
   ]
  },
  {
   "cell_type": "markdown",
   "metadata": {},
   "source": [
    "---\n",
    "\n",
    "## Requirement 2: Compute Linear Regression for Each Relationship\n"
   ]
  },
  {
   "cell_type": "code",
   "execution_count": null,
   "metadata": {},
   "outputs": [],
   "source": [
    "# Define a function to create Linear Regression plots\n",
    "# YOUR CODE HERE\n",
    "\n",
    "# Define independent (x) and dependent (y) variables\n",
    "\n",
    "#Calculating linear regression:\n",
    "    \n",
    "#slope, intercept, r_value, p_value, std_err = linregress(x, y)\n",
    "\n",
    "#Creating a plot:\n",
    "    \n",
    "#regress_values = slope * x + intercept\n",
    "#plt.scatter(x, y, color='blue', marker='o', label='Data')\n",
    "#plt.plot(x, regress_values, color='red', label='Regression Line')\n"
   ]
  },
  {
   "cell_type": "code",
   "execution_count": null,
   "metadata": {},
   "outputs": [],
   "source": [
    "# Create a DataFrame with the Northern Hemisphere data (Latitude >= 0)\n",
    "# YOUR CODE HERE\n",
    "\n",
    "\n",
    "northern_hemi_df = city_data_df[city_data_df['Lat']>= 0]\n",
    "\n",
    "# Display sample data\n",
    "northern_hemi_df.head()"
   ]
  },
  {
   "cell_type": "code",
   "execution_count": null,
   "metadata": {},
   "outputs": [],
   "source": [
    "# Create a DataFrame with the Southern Hemisphere data (Latitude < 0)\n",
    "# YOUR CODE HERE\n",
    "\n",
    "southern_hemi_df = city_data_df[city_data_df[\"Lat\"] < 0]\n",
    "\n",
    "# Display sample data\n",
    "southern_hemi_df.head()"
   ]
  },
  {
   "cell_type": "markdown",
   "metadata": {},
   "source": [
    "###  Temperature vs. Latitude Linear Regression Plot"
   ]
  },
  {
   "cell_type": "code",
   "execution_count": null,
   "metadata": {},
   "outputs": [],
   "source": [
    "# Linear regression on Northern Hemisphere\n",
    "# YOUR CODE HERE\n",
    "\n",
    "\n",
    "x_values = northern_hemi_df[\"Lat\"]\n",
    "y_values = northern_hemi_df[\"Max Temp in °C\"]\n",
    "\n",
    "\n",
    "slope, intercept, r_value, p_value, std_err = linregress(x_values, y_values)\n",
    "regress_values = slope * x_values + intercept\n",
    "\n",
    "\n",
    "fig, ax = plt.subplots()\n",
    "ax.scatter(x_values, y_values, color='lightblue', marker='o', label='Data')\n",
    "ax.plot(x_values, regress_values, color='red', label='Regression Line')\n",
    "\n",
    "ax.set_xlabel('Latitude (°)')\n",
    "ax.set_ylabel('Max Temperature (°C)')\n",
    "\n",
    "ax.set_title('Linear Regression on Northern Hemisphere: Latitude vs. Temperature')\n",
    "\n",
    "ax.annotate(f'Pearson\\'s r = {r_value:.2f}', xy=(0.05, 0.05), xycoords='axes fraction', fontsize=10, color='black')\n",
    "\n",
    "ax.legend()\n",
    "plt.show()"
   ]
  },
  {
   "cell_type": "code",
   "execution_count": null,
   "metadata": {},
   "outputs": [],
   "source": [
    "# Linear regression on Southern Hemisphere\n",
    "# YOUR CODE HERE\n",
    "\n",
    "\n",
    "x_values = southern_hemi_df[\"Lat\"]\n",
    "y_values = southern_hemi_df[\"Max Temp in °C\"]\n",
    "\n",
    "\n",
    "slope, intercept, r_value, p_value, std_err = linregress(x_values, y_values)\n",
    "regress_values = slope * x_values + intercept\n",
    "\n",
    "\n",
    "fig, ax = plt.subplots()\n",
    "ax.scatter(x_values, y_values, color='orange', marker='o', label='Data')\n",
    "ax.plot(x_values, regress_values, color='red', label='Regression Line')\n",
    "\n",
    "ax.set_xlabel('Latitude (°)')\n",
    "ax.set_ylabel('Max Temperature (°C)')\n",
    "\n",
    "ax.set_title('Linear Regression on Southern Hemisphere: Latitude vs. Temperature')\n",
    "\n",
    "ax.annotate(f'Pearson\\'s r = {r_value:.2f}', xy=(0.65, 0.05), xycoords='axes fraction', fontsize=10, color='black')\n",
    "\n",
    "ax.legend()\n",
    "plt.show()"
   ]
  },
  {
   "cell_type": "markdown",
   "metadata": {},
   "source": [
    "**Discussion about the linear relationship:** \n",
    "\n",
    "The two graphs illustrate the relationship between maximum temperature and latitude in the Northern and Southern Hemispheres.\n",
    "\n",
    "In the first graph, representing the Northern Hemisphere, a regression line with a negative slope is displayed. The Pearson correlation coefficient for these variables was calculated to be -0.75, indicating a strong negative relationship. This suggests that as we move away from the equator, maximum temperatures tend to decrease. This trend is consistent with our understanding of climate patterns, where regions closer to the equator generally experience warmer temperatures due to more direct sunlight throughout the year.\n",
    "\n",
    "In contrast, the second graph for the Southern Hemisphere shows a regression line with a positive slope. The calculated Pearson correlation coefficient for these variables is 0.76, which signifies a strong positive relationship. This indicates that as we approach the equator, maximum temperatures increase. This finding aligns with the climatic characteristics of the Southern Hemisphere, where areas near the equator, such as parts of South America and Africa, tend to have higher temperatures compared to those at higher latitudes.\n",
    "\n",
    "Overall, these results highlight the significant impact of latitude on maximum temperatures in both hemispheres. The strong correlations suggest that latitude is a key factor influencing temperature variations."
   ]
  },
  {
   "cell_type": "markdown",
   "metadata": {},
   "source": [
    "### Humidity vs. Latitude Linear Regression Plot"
   ]
  },
  {
   "cell_type": "code",
   "execution_count": null,
   "metadata": {},
   "outputs": [],
   "source": [
    "# Northern Hemisphere\n",
    "# YOUR CODE HERE\n",
    "\n",
    "x_values = northern_hemi_df[\"Lat\"]\n",
    "y_values = northern_hemi_df[\"Humidity\"]\n",
    "\n",
    "\n",
    "slope, intercept, r_value, p_value, std_err = linregress(x_values, y_values)\n",
    "regress_values = slope * x_values + intercept\n",
    "\n",
    "\n",
    "fig, ax = plt.subplots()\n",
    "ax.scatter(x_values, y_values, color='lightblue', marker='o', label='Data')\n",
    "ax.plot(x_values, regress_values, color='red', label='Regression Line')\n",
    "\n",
    "ax.set_xlabel('Latitude (°)')\n",
    "ax.set_ylabel('Humidity (%)')\n",
    "\n",
    "ax.set_title('Linear Regression on Northern Hemisphere: Latitude vs. Humidity')\n",
    "\n",
    "ax.annotate(f'Pearson\\'s r = {r_value:.2f}', xy=(0.05, 0.05), xycoords='axes fraction', fontsize=10, color='black')\n",
    "\n",
    "ax.legend()\n",
    "plt.show()"
   ]
  },
  {
   "cell_type": "code",
   "execution_count": null,
   "metadata": {},
   "outputs": [],
   "source": [
    "# Southern Hemisphere\n",
    "# YOUR CODE HERE\n",
    "\n",
    "x_values = southern_hemi_df[\"Lat\"]\n",
    "y_values = southern_hemi_df[\"Humidity\"]\n",
    "\n",
    "\n",
    "slope, intercept, r_value, p_value, std_err = linregress(x_values, y_values)\n",
    "regress_values = slope * x_values + intercept\n",
    "\n",
    "\n",
    "fig, ax = plt.subplots()\n",
    "ax.scatter(x_values, y_values, color='orange', marker='o', label='Data')\n",
    "ax.plot(x_values, regress_values, color='red', label='Regression Line')\n",
    "\n",
    "ax.set_xlabel('Latitude (°)')\n",
    "ax.set_ylabel('Humidity (%)')\n",
    "\n",
    "ax.set_title('Linear Regression on Southern Hemisphere: Latitude vs. Humidity')\n",
    "\n",
    "ax.annotate(f'Pearson\\'s r = {r_value:.2f}', xy=(0.65, 0.05), xycoords='axes fraction', fontsize=10, color='black')\n",
    "\n",
    "ax.legend()\n",
    "plt.show()\n"
   ]
  },
  {
   "cell_type": "markdown",
   "metadata": {},
   "source": [
    "**Discussion about the linear relationship:** The above graphs illustrate the relationship between latitude and humidity in the Northern and Southern Hemispheres. The calculated Pearson correlation coefficient for the Northern Hemisphere is 0.01, while for the Southern Hemisphere it is -0.03. Both values are close to zero, indicating that there is no significant correlation between these variables in either hemisphere. This may suggest that other factors, such as local climatic conditions, could have a greater influence on humidity than latitude."
   ]
  },
  {
   "cell_type": "markdown",
   "metadata": {},
   "source": [
    "### Cloudiness vs. Latitude Linear Regression Plot"
   ]
  },
  {
   "cell_type": "code",
   "execution_count": null,
   "metadata": {},
   "outputs": [],
   "source": [
    "# Northern Hemisphere\n",
    "# YOUR CODE HERE\n",
    "\n",
    "\n",
    "x_values = northern_hemi_df[\"Lat\"]\n",
    "y_values = northern_hemi_df[\"Cloudiness\"]\n",
    "\n",
    "\n",
    "slope, intercept, r_value, p_value, std_err = linregress(x_values, y_values)\n",
    "regress_values = slope * x_values + intercept\n",
    "\n",
    "\n",
    "fig, ax = plt.subplots()\n",
    "ax.scatter(x_values, y_values, color='lightblue', marker='o', label='Data')\n",
    "ax.plot(x_values, regress_values, color='red', label='Regression Line')\n",
    "\n",
    "ax.set_xlabel('Latitude (°)')\n",
    "ax.set_ylabel('Cloudiness (%)')\n",
    "\n",
    "ax.set_title('Linear Regression on Northern Hemisphere: Latitude vs. Cloudiness')\n",
    "\n",
    "ax.annotate(f'Pearson\\'s r = {r_value:.2f}', xy=(0.65, 0.12), xycoords='axes fraction', fontsize=10, color='black')\n",
    "\n",
    "ax.legend()\n",
    "plt.show()"
   ]
  },
  {
   "cell_type": "code",
   "execution_count": null,
   "metadata": {},
   "outputs": [],
   "source": [
    "# Southern Hemisphere\n",
    "# YOUR CODE HERE\n",
    "\n",
    "x_values = southern_hemi_df[\"Lat\"]\n",
    "y_values = southern_hemi_df[\"Cloudiness\"]\n",
    "\n",
    "\n",
    "slope, intercept, r_value, p_value, std_err = linregress(x_values, y_values)\n",
    "regress_values = slope * x_values + intercept\n",
    "\n",
    "\n",
    "fig, ax = plt.subplots()\n",
    "ax.scatter(x_values, y_values, color='orange', marker='o', label='Data')\n",
    "ax.plot(x_values, regress_values, color='red', label='Regression Line')\n",
    "\n",
    "ax.set_xlabel('Latitude (°)')\n",
    "ax.set_ylabel('Cloudiness (%)')\n",
    "\n",
    "ax.set_title('Linear Regression on Southern Hemisphere: Latitude vs. Cloudiness')\n",
    "\n",
    "ax.annotate(f'Pearson\\'s r = {r_value:.2f}', xy=(0.05, 0.10), xycoords='axes fraction', fontsize=10, color='black')\n",
    "\n",
    "ax.legend()\n",
    "plt.show()"
   ]
  },
  {
   "cell_type": "markdown",
   "metadata": {},
   "source": [
    "**Discussion about the linear relationship:** The above graphs illustrate the relationship between cloudiness and latitude for the Northern Hemisphere in the first graph and the Southern Hemisphere in the second.\n",
    "\n",
    "In the Northern Hemisphere, the calculated Pearson correlation coefficient is 0.00, indicating no correlation between latitude and cloudiness. This suggests that there is no significant relationship between these two variables in this region, and cloudiness does not vary with latitude. The lack of correlation implies that other factors, such as local weather conditions and seasonality, may have a more substantial impact on cloudiness than latitude alone.\n",
    "\n",
    "In contrast, the Southern Hemisphere exhibits a slight dependence between latitude and cloudiness, as indicated by a Pearson correlation coefficient of 0.06. This suggests a very weak positive correlation, indicating a minor tendency for cloudiness to increase as latitude increases toward the poles. However, due to the low value of the coefficient, this correlation is not statistically significant and may result from random fluctuations in the data."
   ]
  },
  {
   "cell_type": "markdown",
   "metadata": {},
   "source": [
    "### Wind Speed vs. Latitude Linear Regression Plot"
   ]
  },
  {
   "cell_type": "code",
   "execution_count": null,
   "metadata": {},
   "outputs": [],
   "source": [
    "# Northern Hemisphere\n",
    "# YOUR CODE HERE\n",
    "\n",
    "x_values = northern_hemi_df[\"Lat\"]\n",
    "y_values = northern_hemi_df[\"Wind Speed\"]\n",
    "\n",
    "\n",
    "slope, intercept, r_value, p_value, std_err = linregress(x_values, y_values)\n",
    "regress_values = slope * x_values + intercept\n",
    "\n",
    "\n",
    "fig, ax = plt.subplots()\n",
    "ax.scatter(x_values, y_values, color='lightblue', marker='o', label='Data')\n",
    "ax.plot(x_values, regress_values, color='red', label='Regression Line')\n",
    "\n",
    "ax.set_xlabel('Latitude (°)')\n",
    "ax.set_ylabel('Wind Speed (m/s)')\n",
    "\n",
    "ax.set_title('Linear Regression on Northern Hemisphere: Latitude vs. Wind Speed')\n",
    "\n",
    "ax.annotate(f'Pearson\\'s r = {r_value:.2f}', xy=(0.05, 0.95), xycoords='axes fraction', fontsize=10, color='black')\n",
    "\n",
    "ax.legend()\n",
    "plt.show()"
   ]
  },
  {
   "cell_type": "code",
   "execution_count": null,
   "metadata": {},
   "outputs": [],
   "source": [
    "# Southern Hemisphere\n",
    "# YOUR CODE HERE\n",
    "\n",
    "x_values = southern_hemi_df[\"Lat\"]\n",
    "y_values = southern_hemi_df[\"Wind Speed\"]\n",
    "\n",
    "\n",
    "slope, intercept, r_value, p_value, std_err = linregress(x_values, y_values)\n",
    "regress_values = slope * x_values + intercept\n",
    "\n",
    "\n",
    "fig, ax = plt.subplots()\n",
    "ax.scatter(x_values, y_values, color='orange', marker='o', label='Data')\n",
    "ax.plot(x_values, regress_values, color='red', label='Regression Line')\n",
    "\n",
    "ax.set_xlabel('Latitude (°)')\n",
    "ax.set_ylabel('Wind Speed (m/s)')\n",
    "\n",
    "ax.set_title('Linear Regression on Southern Hemisphere: Latitude vs. Wind Speed')\n",
    "\n",
    "ax.annotate(f'Pearson\\'s r = {r_value:.2f}', xy=(0.05, 0.90), xycoords='axes fraction', fontsize=10, color='black')\n",
    "\n",
    "ax.legend()\n",
    "plt.show()"
   ]
  },
  {
   "cell_type": "markdown",
   "metadata": {},
   "source": [
    "**Discussion about the linear relationship:** The graphs above illustrate the relationship between wind speed and latitude, with the first graph representing the Northern Hemisphere and the second graph depicting the Southern Hemisphere.\n",
    "\n",
    "In the Northern Hemisphere, the Pearson correlation coefficient of 0.08 indicates a very weak positive correlation between latitude and wind speed. This suggests a slight tendency for wind speed to increase as latitude rises. However, the correlation is so weak that it is likely not statistically significant, implying that any observed relationship may be attributed to random variation in the data rather than a genuine underlying trend.\n",
    "\n",
    "Conversely, in the Southern Hemisphere, a Pearson correlation coefficient of -0.20 reveals a weak negative correlation between latitude and wind speed. This suggests that as latitude increases, wind speed may tend to decrease. Although this correlation is stronger than that observed in the Northern Hemisphere, it remains relatively weak, indicating that other factors may also significantly influence wind speed in this region.\n",
    "\n",
    "Overall, in the Northern Hemisphere, the very weak positive correlation between latitude and wind speed implies minimal relationship, while in the Southern Hemisphere, the weak negative correlation suggests a potential decrease in wind speed with increasing latitude, though this relationship is also not robust."
   ]
  },
  {
   "cell_type": "code",
   "execution_count": null,
   "metadata": {},
   "outputs": [],
   "source": []
  }
 ],
 "metadata": {
  "anaconda-cloud": {},
  "kernel_info": {
   "name": "python3"
  },
  "kernelspec": {
   "display_name": "Python 3 (ipykernel)",
   "language": "python",
   "name": "python3"
  },
  "language_info": {
   "codemirror_mode": {
    "name": "ipython",
    "version": 3
   },
   "file_extension": ".py",
   "mimetype": "text/x-python",
   "name": "python",
   "nbconvert_exporter": "python",
   "pygments_lexer": "ipython3",
   "version": "3.10.14"
  },
  "latex_envs": {
   "LaTeX_envs_menu_present": true,
   "autoclose": false,
   "autocomplete": true,
   "bibliofile": "biblio.bib",
   "cite_by": "apalike",
   "current_citInitial": 1,
   "eqLabelWithNumbers": true,
   "eqNumInitial": 1,
   "hotkeys": {
    "equation": "Ctrl-E",
    "itemize": "Ctrl-I"
   },
   "labels_anchors": false,
   "latex_user_defs": false,
   "report_style_numbering": false,
   "user_envs_cfg": false
  },
  "nteract": {
   "version": "0.12.3"
  }
 },
 "nbformat": 4,
 "nbformat_minor": 4
}
